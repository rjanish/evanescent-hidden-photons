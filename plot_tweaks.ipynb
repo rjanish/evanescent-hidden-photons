{
 "cells": [
  {
   "cell_type": "code",
   "execution_count": null,
   "metadata": {
    "collapsed": true
   },
   "outputs": [],
   "source": []
  },
  {
   "cell_type": "code",
   "execution_count": 4,
   "metadata": {
    "collapsed": true
   },
   "outputs": [],
   "source": [
    "\n",
    "import numpy as np\n",
    "import scipy.special as spec\n",
    "\n",
    "import matplotlib as mpl\n",
    "import matplotlib.pyplot as plt\n",
    "from mpl_toolkits.axes_grid1 import make_axes_locatable\n",
    "from matplotlib import cm\n",
    "\n",
    "\n",
    "import parse_sample_effective_current as ec"
   ]
  },
  {
   "cell_type": "code",
   "execution_count": 5,
   "metadata": {
    "collapsed": true
   },
   "outputs": [],
   "source": [
    "paper_plot_runs = [\"output-plot-TM010-m10.dat\",\n",
    "                   \"output-plot-TE011-m10.dat\"]"
   ]
  },
  {
   "cell_type": "code",
   "execution_count": 6,
   "metadata": {
    "collapsed": false
   },
   "outputs": [],
   "source": [
    "out = ec.read_OLD_effective_current_output(paper_plot_runs, \n",
    "                                           \"output-plot-\")"
   ]
  },
  {
   "cell_type": "code",
   "execution_count": 7,
   "metadata": {
    "collapsed": true
   },
   "outputs": [],
   "source": [
    "plt.rcParams['text.usetex'] = True"
   ]
  },
  {
   "cell_type": "code",
   "execution_count": 8,
   "metadata": {
    "collapsed": true
   },
   "outputs": [],
   "source": [
    "def Ez_TM010(r, z):\n",
    "    out = np.zeros(r.shape)\n",
    "    x01 = spec.jn_zeros(0, 1)\n",
    "    return spec.j0(x01*r)\n",
    "\n",
    "def Ephi_TE011(z, r):\n",
    "    out = np.zeros(r.shape)\n",
    "    x11 = spec.jn_zeros(1, 1)\n",
    "    return spec.j1(x11*r)*np.sin(np.pi*z)"
   ]
  },
  {
   "cell_type": "code",
   "execution_count": 9,
   "metadata": {
    "collapsed": false
   },
   "outputs": [
    {
     "ename": "TypeError",
     "evalue": "streamplot() got an unexpected keyword argument 'broken_streamlines'",
     "output_type": "error",
     "traceback": [
      "\u001b[0;31m---------------------------------------------------------------------------\u001b[0m",
      "\u001b[0;31mTypeError\u001b[0m                                 Traceback (most recent call last)",
      "\u001b[0;32m<ipython-input-9-4139ef36fd6a>\u001b[0m in \u001b[0;36m<module>\u001b[0;34m()\u001b[0m\n\u001b[1;32m     26\u001b[0m           \u001b[0mcolor\u001b[0m\u001b[0;34m=\u001b[0m\u001b[0;34m\"maroon\"\u001b[0m\u001b[0;34m,\u001b[0m \u001b[0mlinewidth\u001b[0m\u001b[0;34m=\u001b[0m\u001b[0mlw\u001b[0m\u001b[0;34m,\u001b[0m\u001b[0;34m\u001b[0m\u001b[0m\n\u001b[1;32m     27\u001b[0m           \u001b[0mstart_points\u001b[0m\u001b[0;34m=\u001b[0m\u001b[0mstarts\u001b[0m\u001b[0;34m,\u001b[0m \u001b[0marrowsize\u001b[0m\u001b[0;34m=\u001b[0m\u001b[0;36m2\u001b[0m\u001b[0;34m,\u001b[0m\u001b[0;34m\u001b[0m\u001b[0m\n\u001b[0;32m---> 28\u001b[0;31m           arrowstyle=\"->\")\n\u001b[0m\u001b[1;32m     29\u001b[0m \u001b[0;34m\u001b[0m\u001b[0m\n\u001b[1;32m     30\u001b[0m \u001b[0;31m# mode lines and crosses for TM010\u001b[0m\u001b[0;34m\u001b[0m\u001b[0;34m\u001b[0m\u001b[0m\n",
      "\u001b[0;32m/home/janish/installs/anaconda2/lib/python2.7/site-packages/matplotlib/__init__.pyc\u001b[0m in \u001b[0;36minner\u001b[0;34m(ax, *args, **kwargs)\u001b[0m\n\u001b[1;32m   1890\u001b[0m                     warnings.warn(msg % (label_namer, func.__name__),\n\u001b[1;32m   1891\u001b[0m                                   RuntimeWarning, stacklevel=2)\n\u001b[0;32m-> 1892\u001b[0;31m             \u001b[0;32mreturn\u001b[0m \u001b[0mfunc\u001b[0m\u001b[0;34m(\u001b[0m\u001b[0max\u001b[0m\u001b[0;34m,\u001b[0m \u001b[0;34m*\u001b[0m\u001b[0margs\u001b[0m\u001b[0;34m,\u001b[0m \u001b[0;34m**\u001b[0m\u001b[0mkwargs\u001b[0m\u001b[0;34m)\u001b[0m\u001b[0;34m\u001b[0m\u001b[0m\n\u001b[0m\u001b[1;32m   1893\u001b[0m         \u001b[0mpre_doc\u001b[0m \u001b[0;34m=\u001b[0m \u001b[0minner\u001b[0m\u001b[0;34m.\u001b[0m\u001b[0m__doc__\u001b[0m\u001b[0;34m\u001b[0m\u001b[0m\n\u001b[1;32m   1894\u001b[0m         \u001b[0;32mif\u001b[0m \u001b[0mpre_doc\u001b[0m \u001b[0;32mis\u001b[0m \u001b[0mNone\u001b[0m\u001b[0;34m:\u001b[0m\u001b[0;34m\u001b[0m\u001b[0m\n",
      "\u001b[0;31mTypeError\u001b[0m: streamplot() got an unexpected keyword argument 'broken_streamlines'"
     ]
    }
   ],
   "source": [
    "fig, [left, right] = plt.subplots(1,2)\n",
    "\n",
    "# color plot of |j_eff| for TM010\n",
    "run = \"TM010-m10\"\n",
    "xs = out[run][\"x\"][:, 0, :]\n",
    "zs = out[run][\"z\"][:, 0, :]\n",
    "j = out[run][\"jtotal\"][:, 0, :]\n",
    "abs_max = np.abs(j[np.isfinite(j)]).max()\n",
    "cplot = left.pcolor(zs, xs, j/abs_max, cmap=\"Reds\", vmin=0, vmax=1)\n",
    "left.set_aspect(\"equal\")\n",
    "divider = make_axes_locatable(left)\n",
    "left.set_title(r\"$ \\displaystyle {\\rm TM}_{010}$ {\\rm Emitter}\",\n",
    "               fontsize=16)\n",
    "\n",
    "# j_eff stream lines for TM010\n",
    "lw = 0.9\n",
    "starts = [[0.06, 0.8],\n",
    "          [0.15, 1],\n",
    "          [0.35, 1],\n",
    "          [0.2, 1.49]]\n",
    "stream = left.streamplot(\n",
    "          out[run][\"z\"][0, 0, :], out[run][\"x\"][:, 0, 0],\n",
    "          out[run][\"re_jz\"][:, 0, :],\n",
    "          out[run][\"re_jr\"][:, 0, :],\n",
    "          broken_streamlines=False,\n",
    "          color=\"maroon\", linewidth=lw,\n",
    "          start_points=starts, arrowsize=2,\n",
    "          arrowstyle=\"->\")\n",
    "\n",
    "# mode lines and crosses for TM010\n",
    "Ni=200\n",
    "xi = np.linspace(-0.5, 0, Ni)\n",
    "yi = np.linspace(0.0, 1, Ni)\n",
    "r_left_inside, z_left_inside = np.meshgrid(xi, yi)\n",
    "Nlines=6\n",
    "Efield_lines = -0.02*np.ones((Nlines,2))\n",
    "Efield_lines[:, 1] = np.linspace(0,1,Nlines+2)[1:-1]\n",
    "\n",
    "stream = left.streamplot(\n",
    "              xi, yi, np.ones((Ni, Ni)), np.zeros((Ni, Ni)), \n",
    "              broken_streamlines=False, linewidth=lw, arrowsize=2, cmap=\"Blues\",\n",
    "              arrowstyle=\"->\", start_points=Efield_lines, \n",
    "              color=Ez_TM010(z_left_inside, r_left_inside))\n",
    "left.text(-0.4, 0.4, r'$\\displaystyle \\vec{E}_\\textrm{em} $',\n",
    "        color='navy', fontsize=14)\n",
    "left.text(-0.2, 1.25, r'$\\displaystyle \\vec{j}_\\textrm{eff} $',\n",
    "        color='maroon', fontsize=14)\n",
    "\n",
    "# cavity boundary\n",
    "left.plot([-0.5, 0, 0], [1, 1, 0], marker='',\n",
    "    linestyle='-', color='black',\n",
    "    linewidth=2)\n",
    "left.set_xlabel(r'$ \\displaystyle z/R$', size=12)\n",
    "left.set_ylabel(r'$ \\displaystyle \\rho/R$', size=12)\n",
    "\n",
    "\n",
    "# color plot of j_eff_phi for TE011\n",
    "run = \"TE011-m10\"\n",
    "xs = out[run][\"x\"][:, 0, :]\n",
    "zs = out[run][\"z\"][:, 0, :]\n",
    "j = out[run][\"re_jphi\"][:, 0, :]\n",
    "abs_max = np.abs(j[np.isfinite(j)]).max()\n",
    "cplot = right.pcolor(zs, xs, j/abs_max, cmap=\"Reds\", vmin=0, vmax=1)\n",
    "\n",
    "Nrows = 6\n",
    "Ncolumns = 2\n",
    "Efield_x_2x2, Efield_y_2x2 = np.meshgrid(np.linspace(-0.5, 0, 2*Ncolumns + 1)[1:-1:2],\n",
    "                                         np.linspace(0, 1, Nrows + 2)[1:-1])\n",
    "Efield_x = Efield_x_2x2.flatten()\n",
    "Efield_y = Efield_y_2x2.flatten()\n",
    "absE = np.absolute(Ephi_TE011(Efield_x, Efield_y))\n",
    "right.scatter(Efield_x, Efield_y, \n",
    "              marker='x', s=80, linewidth=lw,\n",
    "              c=absE, cmap=\"Blues\")\n",
    "right.scatter(Efield_x, Efield_y, \n",
    "              marker='o', s=80, linewidth=lw,\n",
    "              facecolors='none', c=absE, cmap=\"Blues\")\n",
    "# norm = mpl.colors.Normalize(vmin=absE.min(), vmax=absE.max())\n",
    "# for xp, yp, Ep in zip(Efield_x, Efield_y, absE\n",
    "#     right.add_patch(plt.Circle((xp, yp), 0.05, \n",
    "#                                color=cm.Blues(norm(Ep),bytes=True),\n",
    "#                                fill=False, linewidth=lw))\n",
    "\n",
    "j_circ_out = [[ 0.25,  1.5*1/8],\n",
    "              [ 0.25,  1.5*3/8],\n",
    "              [ 0.25,  1.5*5/8],\n",
    "              [ 0.25,  1.5*7/8],\n",
    "              [-0.25,  1.5*7/8]]\n",
    "for xp, yp in j_circ_out:\n",
    "    right.scatter([xp], [yp], marker='x', color=\"maroon\", s=80, linewidth=lw)\n",
    "    right.add_patch(plt.Circle((xp, yp), 0.05, color=\"maroon\",\n",
    "                            fill=False, linewidth=lw))\n",
    "right.text(-0.4, 0.7, r'$\\displaystyle \\vec{E}_\\textrm{em} $',\n",
    "        color='navy', fontsize=14)\n",
    "right.text(-0.175, 1.2, r'$\\displaystyle \\vec{j}_\\textrm{eff} $',\n",
    "        color='maroon', fontsize=14)\n",
    "right.set_aspect(\"equal\")\n",
    "\n",
    "right.set_title(r\"$ \\displaystyle {\\rm TE}_{011}$ {\\rm Emitter}\",\n",
    "                fontsize=16)\n",
    "right.set_yticks([])\n",
    "right.set_yticks([])\n",
    "right.set_xlabel(r'$z/R$', size=14)\n",
    "# cavity boundary\n",
    "right.plot([-0.5, 0, 0], [1, 1, 0], marker='',\n",
    "    linestyle='-', color='black',\n",
    "    linewidth=2)\n",
    "\n",
    "\n",
    "fig.set_size_inches(12, 20)\n",
    "plt.show()"
   ]
  },
  {
   "cell_type": "code",
   "execution_count": null,
   "metadata": {
    "collapsed": true
   },
   "outputs": [],
   "source": []
  }
 ],
 "metadata": {
  "kernelspec": {
   "display_name": "Python 2",
   "language": "python",
   "name": "python2"
  },
  "language_info": {
   "codemirror_mode": {
    "name": "ipython",
    "version": 2
   },
   "file_extension": ".py",
   "mimetype": "text/x-python",
   "name": "python",
   "nbconvert_exporter": "python",
   "pygments_lexer": "ipython2",
   "version": "2.7.13"
  }
 },
 "nbformat": 4,
 "nbformat_minor": 5
}
